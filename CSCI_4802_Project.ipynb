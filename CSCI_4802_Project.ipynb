{
  "nbformat": 4,
  "nbformat_minor": 0,
  "metadata": {
    "colab": {
      "name": "CSCI_4802_Project.ipynb",
      "provenance": [],
      "collapsed_sections": [],
      "include_colab_link": true
    },
    "kernelspec": {
      "name": "python3",
      "display_name": "Python 3"
    },
    "language_info": {
      "name": "python"
    }
  },
  "cells": [
    {
      "cell_type": "markdown",
      "metadata": {
        "id": "view-in-github",
        "colab_type": "text"
      },
      "source": [
        "<a href=\"https://colab.research.google.com/github/kevinawongw/CSCI_4802_Wine/blob/main/CSCI_4802_Project.ipynb\" target=\"_parent\"><img src=\"https://colab.research.google.com/assets/colab-badge.svg\" alt=\"Open In Colab\"/></a>"
      ]
    },
    {
      "cell_type": "markdown",
      "metadata": {
        "id": "uE7R5VhoWgdV"
      },
      "source": [
        "# CSCI 4022 - Final Project \n",
        "<b>Kevina Wong</b> - kevina.wong@colorado.edu\n",
        "\n",
        "<b>Vienna Wong</b> vienna.wong@colraodo.edu\n",
        "\n",
        "<b>Yubin (Sally) Go </b>\n",
        "\n",
        "## Question of Interest:\n",
        "\n",
        "Can we use algorithms to classify wine type based on flavor profile and descriptions?\n"
      ]
    },
    {
      "cell_type": "markdown",
      "metadata": {
        "id": "rDlREY94Y9Lf"
      },
      "source": [
        "## Data\n",
        "\n",
        "The link to the dataset can be found [here](https://docs.google.com/spreadsheets/d/1DuHnmSNEWDIcu_QoBHBpybO-qS1FfiDxftMsY33kfUw/edit?usp=sharing\n",
        ").\n",
        "\n",
        "\n",
        "This dataset consists of roughly 151,000 entries of wines. The columns included are: country, description, designation, points, price, province\tregion_1, region_2, variety, winery.\n",
        "\n",
        "\n",
        "## Organization of Data  \n",
        "\n",
        "<ol>\n",
        "<li> <b>Data Wrangline and Organization</b> </li>\n",
        "\n",
        "We only intend on using the columns 'description' and 'variety'.\n",
        "\n",
        "Descriptions include a description of the flavor profile for each wine. Viariety tells us what type of wine it is (Merlot, Pinot Noir, etc.). These two will be our only relevant columns since we are trying to classify wine variety using its written description.\n",
        "\n",
        "All cells are converted to lowercase without punctuation. Lastly, we also created subsets of the dataframe grouped by wine variety. We have also eliminated common articles, prepositions, and conjunctions so our frequent items aren't skewed.\n",
        "\n",
        "<li><b>Creating Item Baskets </b>\n",
        "\n",
        "We created dictionaries to hold our items acting as an item basket.\n",
        "The structure of the dictionary will look like like:\n",
        "\n",
        "variety -> {[array of words in description]}\n",
        "\n",
        "</ol>\n"
      ]
    },
    {
      "cell_type": "code",
      "metadata": {
        "id": "z2jy7BntWmuE",
        "colab": {
          "base_uri": "https://localhost:8080/"
        },
        "outputId": "d743aa6c-8a9d-4416-911f-740cf87b6229"
      },
      "source": [
        "# Imports & Packages\n",
        "\n",
        "import matplotlib.pyplot as plt\n",
        "import numpy as np\n",
        "import pandas as pd\n",
        "import statsmodels.api as sm\n",
        "import itertools\n",
        "import nltk\n",
        "from nltk.tokenize import word_tokenize\n",
        "nltk.download('punkt')\n",
        "import string"
      ],
      "execution_count": 154,
      "outputs": [
        {
          "output_type": "stream",
          "name": "stdout",
          "text": [
            "[nltk_data] Downloading package punkt to /root/nltk_data...\n",
            "[nltk_data]   Package punkt is already up-to-date!\n"
          ]
        }
      ]
    },
    {
      "cell_type": "code",
      "metadata": {
        "id": "vZUw1nhlW1oq",
        "colab": {
          "base_uri": "https://localhost:8080/",
          "height": 261
        },
        "outputId": "e3dc210a-4729-410e-9149-80cce4723b00"
      },
      "source": [
        "# Read DataFrame\n",
        "\n",
        "df = pd.read_csv('wine.csv', on_bad_lines='skip')\n",
        "df = df[[\"description\", \"variety\"]]\n",
        "df.tail()"
      ],
      "execution_count": 173,
      "outputs": [
        {
          "output_type": "stream",
          "name": "stderr",
          "text": [
            "/usr/local/lib/python3.7/dist-packages/IPython/core/interactiveshell.py:2882: DtypeWarning: Columns (0,4,5) have mixed types.Specify dtype option on import or set low_memory=False.\n",
            "  exec(code_obj, self.user_global_ns, self.user_ns)\n"
          ]
        },
        {
          "output_type": "execute_result",
          "data": {
            "text/plain": [
              "                                              description          variety\n",
              "286048  Many people feel Fiano represents southern Ita...      White Blend\n",
              "286049  Offers an intriguing nose with ginger, lime an...  Champagne Blend\n",
              "286050  This classic example comes from a cru vineyard...      White Blend\n",
              "286051  A perfect salmon shade, with scents of peaches...  Champagne Blend\n",
              "286052  More Pinot Grigios should taste like this. A r...     Pinot Grigio"
            ],
            "text/html": [
              "\n",
              "  <div id=\"df-f7b1c2a4-b4bb-47b0-a7cb-ec8a5ee1a998\">\n",
              "    <div class=\"colab-df-container\">\n",
              "      <div>\n",
              "<style scoped>\n",
              "    .dataframe tbody tr th:only-of-type {\n",
              "        vertical-align: middle;\n",
              "    }\n",
              "\n",
              "    .dataframe tbody tr th {\n",
              "        vertical-align: top;\n",
              "    }\n",
              "\n",
              "    .dataframe thead th {\n",
              "        text-align: right;\n",
              "    }\n",
              "</style>\n",
              "<table border=\"1\" class=\"dataframe\">\n",
              "  <thead>\n",
              "    <tr style=\"text-align: right;\">\n",
              "      <th></th>\n",
              "      <th>description</th>\n",
              "      <th>variety</th>\n",
              "    </tr>\n",
              "  </thead>\n",
              "  <tbody>\n",
              "    <tr>\n",
              "      <th>286048</th>\n",
              "      <td>Many people feel Fiano represents southern Ita...</td>\n",
              "      <td>White Blend</td>\n",
              "    </tr>\n",
              "    <tr>\n",
              "      <th>286049</th>\n",
              "      <td>Offers an intriguing nose with ginger, lime an...</td>\n",
              "      <td>Champagne Blend</td>\n",
              "    </tr>\n",
              "    <tr>\n",
              "      <th>286050</th>\n",
              "      <td>This classic example comes from a cru vineyard...</td>\n",
              "      <td>White Blend</td>\n",
              "    </tr>\n",
              "    <tr>\n",
              "      <th>286051</th>\n",
              "      <td>A perfect salmon shade, with scents of peaches...</td>\n",
              "      <td>Champagne Blend</td>\n",
              "    </tr>\n",
              "    <tr>\n",
              "      <th>286052</th>\n",
              "      <td>More Pinot Grigios should taste like this. A r...</td>\n",
              "      <td>Pinot Grigio</td>\n",
              "    </tr>\n",
              "  </tbody>\n",
              "</table>\n",
              "</div>\n",
              "      <button class=\"colab-df-convert\" onclick=\"convertToInteractive('df-f7b1c2a4-b4bb-47b0-a7cb-ec8a5ee1a998')\"\n",
              "              title=\"Convert this dataframe to an interactive table.\"\n",
              "              style=\"display:none;\">\n",
              "        \n",
              "  <svg xmlns=\"http://www.w3.org/2000/svg\" height=\"24px\"viewBox=\"0 0 24 24\"\n",
              "       width=\"24px\">\n",
              "    <path d=\"M0 0h24v24H0V0z\" fill=\"none\"/>\n",
              "    <path d=\"M18.56 5.44l.94 2.06.94-2.06 2.06-.94-2.06-.94-.94-2.06-.94 2.06-2.06.94zm-11 1L8.5 8.5l.94-2.06 2.06-.94-2.06-.94L8.5 2.5l-.94 2.06-2.06.94zm10 10l.94 2.06.94-2.06 2.06-.94-2.06-.94-.94-2.06-.94 2.06-2.06.94z\"/><path d=\"M17.41 7.96l-1.37-1.37c-.4-.4-.92-.59-1.43-.59-.52 0-1.04.2-1.43.59L10.3 9.45l-7.72 7.72c-.78.78-.78 2.05 0 2.83L4 21.41c.39.39.9.59 1.41.59.51 0 1.02-.2 1.41-.59l7.78-7.78 2.81-2.81c.8-.78.8-2.07 0-2.86zM5.41 20L4 18.59l7.72-7.72 1.47 1.35L5.41 20z\"/>\n",
              "  </svg>\n",
              "      </button>\n",
              "      \n",
              "  <style>\n",
              "    .colab-df-container {\n",
              "      display:flex;\n",
              "      flex-wrap:wrap;\n",
              "      gap: 12px;\n",
              "    }\n",
              "\n",
              "    .colab-df-convert {\n",
              "      background-color: #E8F0FE;\n",
              "      border: none;\n",
              "      border-radius: 50%;\n",
              "      cursor: pointer;\n",
              "      display: none;\n",
              "      fill: #1967D2;\n",
              "      height: 32px;\n",
              "      padding: 0 0 0 0;\n",
              "      width: 32px;\n",
              "    }\n",
              "\n",
              "    .colab-df-convert:hover {\n",
              "      background-color: #E2EBFA;\n",
              "      box-shadow: 0px 1px 2px rgba(60, 64, 67, 0.3), 0px 1px 3px 1px rgba(60, 64, 67, 0.15);\n",
              "      fill: #174EA6;\n",
              "    }\n",
              "\n",
              "    [theme=dark] .colab-df-convert {\n",
              "      background-color: #3B4455;\n",
              "      fill: #D2E3FC;\n",
              "    }\n",
              "\n",
              "    [theme=dark] .colab-df-convert:hover {\n",
              "      background-color: #434B5C;\n",
              "      box-shadow: 0px 1px 3px 1px rgba(0, 0, 0, 0.15);\n",
              "      filter: drop-shadow(0px 1px 2px rgba(0, 0, 0, 0.3));\n",
              "      fill: #FFFFFF;\n",
              "    }\n",
              "  </style>\n",
              "\n",
              "      <script>\n",
              "        const buttonEl =\n",
              "          document.querySelector('#df-f7b1c2a4-b4bb-47b0-a7cb-ec8a5ee1a998 button.colab-df-convert');\n",
              "        buttonEl.style.display =\n",
              "          google.colab.kernel.accessAllowed ? 'block' : 'none';\n",
              "\n",
              "        async function convertToInteractive(key) {\n",
              "          const element = document.querySelector('#df-f7b1c2a4-b4bb-47b0-a7cb-ec8a5ee1a998');\n",
              "          const dataTable =\n",
              "            await google.colab.kernel.invokeFunction('convertToInteractive',\n",
              "                                                     [key], {});\n",
              "          if (!dataTable) return;\n",
              "\n",
              "          const docLinkHtml = 'Like what you see? Visit the ' +\n",
              "            '<a target=\"_blank\" href=https://colab.research.google.com/notebooks/data_table.ipynb>data table notebook</a>'\n",
              "            + ' to learn more about interactive tables.';\n",
              "          element.innerHTML = '';\n",
              "          dataTable['output_type'] = 'display_data';\n",
              "          await google.colab.output.renderOutput(dataTable, element);\n",
              "          const docLink = document.createElement('div');\n",
              "          docLink.innerHTML = docLinkHtml;\n",
              "          element.appendChild(docLink);\n",
              "        }\n",
              "      </script>\n",
              "    </div>\n",
              "  </div>\n",
              "  "
            ]
          },
          "metadata": {},
          "execution_count": 173
        }
      ]
    },
    {
      "cell_type": "code",
      "metadata": {
        "id": "hw6p8zUPYCxe",
        "colab": {
          "base_uri": "https://localhost:8080/",
          "height": 206
        },
        "outputId": "da062377-a4c1-48a2-c2c5-a8da16a1bc91"
      },
      "source": [
        "# Clean Dataframe\n",
        "df['variety'] = df['variety'].astype('str') \n",
        "df['description'] = df['description'].astype('str')\n",
        "clean_df = df.dropna()\n",
        "clean_df = clean_df.drop_duplicates().reset_index(drop=True)\n",
        "\n",
        "clean_df.tail()"
      ],
      "execution_count": null,
      "outputs": [
        {
          "output_type": "execute_result",
          "data": {
            "text/plain": [
              "                                             description         variety\n",
              "97867  Smooth in the mouth, this Chard starts off wit...      Chardonnay\n",
              "97868  Seems mature and ready to drink now, with eart...      Chardonnay\n",
              "97869  While we'd suggest waiting for the 2007 to hit...      Pinot Noir\n",
              "97870  Fresh and fragrant, with a jumble of cherry, p...    Nero d'Avola\n",
              "97871  Signorello's proprietary Bordeaux blend is lar...  Cabernet Blend"
            ],
            "text/html": [
              "\n",
              "  <div id=\"df-670f4775-5ff5-4fee-83b5-a38cba8f170f\">\n",
              "    <div class=\"colab-df-container\">\n",
              "      <div>\n",
              "<style scoped>\n",
              "    .dataframe tbody tr th:only-of-type {\n",
              "        vertical-align: middle;\n",
              "    }\n",
              "\n",
              "    .dataframe tbody tr th {\n",
              "        vertical-align: top;\n",
              "    }\n",
              "\n",
              "    .dataframe thead th {\n",
              "        text-align: right;\n",
              "    }\n",
              "</style>\n",
              "<table border=\"1\" class=\"dataframe\">\n",
              "  <thead>\n",
              "    <tr style=\"text-align: right;\">\n",
              "      <th></th>\n",
              "      <th>description</th>\n",
              "      <th>variety</th>\n",
              "    </tr>\n",
              "  </thead>\n",
              "  <tbody>\n",
              "    <tr>\n",
              "      <th>97867</th>\n",
              "      <td>Smooth in the mouth, this Chard starts off wit...</td>\n",
              "      <td>Chardonnay</td>\n",
              "    </tr>\n",
              "    <tr>\n",
              "      <th>97868</th>\n",
              "      <td>Seems mature and ready to drink now, with eart...</td>\n",
              "      <td>Chardonnay</td>\n",
              "    </tr>\n",
              "    <tr>\n",
              "      <th>97869</th>\n",
              "      <td>While we'd suggest waiting for the 2007 to hit...</td>\n",
              "      <td>Pinot Noir</td>\n",
              "    </tr>\n",
              "    <tr>\n",
              "      <th>97870</th>\n",
              "      <td>Fresh and fragrant, with a jumble of cherry, p...</td>\n",
              "      <td>Nero d'Avola</td>\n",
              "    </tr>\n",
              "    <tr>\n",
              "      <th>97871</th>\n",
              "      <td>Signorello's proprietary Bordeaux blend is lar...</td>\n",
              "      <td>Cabernet Blend</td>\n",
              "    </tr>\n",
              "  </tbody>\n",
              "</table>\n",
              "</div>\n",
              "      <button class=\"colab-df-convert\" onclick=\"convertToInteractive('df-670f4775-5ff5-4fee-83b5-a38cba8f170f')\"\n",
              "              title=\"Convert this dataframe to an interactive table.\"\n",
              "              style=\"display:none;\">\n",
              "        \n",
              "  <svg xmlns=\"http://www.w3.org/2000/svg\" height=\"24px\"viewBox=\"0 0 24 24\"\n",
              "       width=\"24px\">\n",
              "    <path d=\"M0 0h24v24H0V0z\" fill=\"none\"/>\n",
              "    <path d=\"M18.56 5.44l.94 2.06.94-2.06 2.06-.94-2.06-.94-.94-2.06-.94 2.06-2.06.94zm-11 1L8.5 8.5l.94-2.06 2.06-.94-2.06-.94L8.5 2.5l-.94 2.06-2.06.94zm10 10l.94 2.06.94-2.06 2.06-.94-2.06-.94-.94-2.06-.94 2.06-2.06.94z\"/><path d=\"M17.41 7.96l-1.37-1.37c-.4-.4-.92-.59-1.43-.59-.52 0-1.04.2-1.43.59L10.3 9.45l-7.72 7.72c-.78.78-.78 2.05 0 2.83L4 21.41c.39.39.9.59 1.41.59.51 0 1.02-.2 1.41-.59l7.78-7.78 2.81-2.81c.8-.78.8-2.07 0-2.86zM5.41 20L4 18.59l7.72-7.72 1.47 1.35L5.41 20z\"/>\n",
              "  </svg>\n",
              "      </button>\n",
              "      \n",
              "  <style>\n",
              "    .colab-df-container {\n",
              "      display:flex;\n",
              "      flex-wrap:wrap;\n",
              "      gap: 12px;\n",
              "    }\n",
              "\n",
              "    .colab-df-convert {\n",
              "      background-color: #E8F0FE;\n",
              "      border: none;\n",
              "      border-radius: 50%;\n",
              "      cursor: pointer;\n",
              "      display: none;\n",
              "      fill: #1967D2;\n",
              "      height: 32px;\n",
              "      padding: 0 0 0 0;\n",
              "      width: 32px;\n",
              "    }\n",
              "\n",
              "    .colab-df-convert:hover {\n",
              "      background-color: #E2EBFA;\n",
              "      box-shadow: 0px 1px 2px rgba(60, 64, 67, 0.3), 0px 1px 3px 1px rgba(60, 64, 67, 0.15);\n",
              "      fill: #174EA6;\n",
              "    }\n",
              "\n",
              "    [theme=dark] .colab-df-convert {\n",
              "      background-color: #3B4455;\n",
              "      fill: #D2E3FC;\n",
              "    }\n",
              "\n",
              "    [theme=dark] .colab-df-convert:hover {\n",
              "      background-color: #434B5C;\n",
              "      box-shadow: 0px 1px 3px 1px rgba(0, 0, 0, 0.15);\n",
              "      filter: drop-shadow(0px 1px 2px rgba(0, 0, 0, 0.3));\n",
              "      fill: #FFFFFF;\n",
              "    }\n",
              "  </style>\n",
              "\n",
              "      <script>\n",
              "        const buttonEl =\n",
              "          document.querySelector('#df-670f4775-5ff5-4fee-83b5-a38cba8f170f button.colab-df-convert');\n",
              "        buttonEl.style.display =\n",
              "          google.colab.kernel.accessAllowed ? 'block' : 'none';\n",
              "\n",
              "        async function convertToInteractive(key) {\n",
              "          const element = document.querySelector('#df-670f4775-5ff5-4fee-83b5-a38cba8f170f');\n",
              "          const dataTable =\n",
              "            await google.colab.kernel.invokeFunction('convertToInteractive',\n",
              "                                                     [key], {});\n",
              "          if (!dataTable) return;\n",
              "\n",
              "          const docLinkHtml = 'Like what you see? Visit the ' +\n",
              "            '<a target=\"_blank\" href=https://colab.research.google.com/notebooks/data_table.ipynb>data table notebook</a>'\n",
              "            + ' to learn more about interactive tables.';\n",
              "          element.innerHTML = '';\n",
              "          dataTable['output_type'] = 'display_data';\n",
              "          await google.colab.output.renderOutput(dataTable, element);\n",
              "          const docLink = document.createElement('div');\n",
              "          docLink.innerHTML = docLinkHtml;\n",
              "          element.appendChild(docLink);\n",
              "        }\n",
              "      </script>\n",
              "    </div>\n",
              "  </div>\n",
              "  "
            ]
          },
          "metadata": {},
          "execution_count": 116
        }
      ]
    },
    {
      "cell_type": "code",
      "source": [
        "unique_varieties = np.unique(df['variety'])\n",
        "\n",
        "print(\"+=== Wine Varieties ===+\")\n",
        "print(clean_df['variety'].value_counts()[:15])"
      ],
      "metadata": {
        "colab": {
          "base_uri": "https://localhost:8080/"
        },
        "id": "W-ocj8JG7uGJ",
        "outputId": "882c0118-8bde-469d-dad2-184aff6fdd10"
      },
      "execution_count": null,
      "outputs": [
        {
          "output_type": "stream",
          "name": "stdout",
          "text": [
            "+=== Wine Varieties ===+\n",
            "Pinot Noir                  9287\n",
            "Chardonnay                  9164\n",
            "Cabernet Sauvignon          8277\n",
            "Red Blend                   6486\n",
            "Bordeaux-style Red Blend    5173\n",
            "Sauvignon Blanc             4035\n",
            "Syrah                       3664\n",
            "Riesling                    3582\n",
            "Merlot                      3179\n",
            "Zinfandel                   2408\n",
            "Sangiovese                  2154\n",
            "Malbec                      1968\n",
            "Rosé                        1910\n",
            "White Blend                 1859\n",
            "Tempranillo                 1622\n",
            "Name: variety, dtype: int64\n"
          ]
        }
      ]
    },
    {
      "cell_type": "code",
      "metadata": {
        "colab": {
          "base_uri": "https://localhost:8080/",
          "height": 206
        },
        "id": "RQvnI3gR6kFb",
        "outputId": "74893d3c-8767-47a8-c270-01105be66ea8"
      },
      "source": [
        "# Remove Unwanted / Weird Genres\n",
        "keep = ['Pinot Noir', 'Chardonnay', 'Cabernet Sauvignon', 'Red Blend', 'Bordeaux-style Red Blend', 'Sauvignon Blanc', 'Syrah', 'Riesling', 'Merlot', 'Zinfandelranillo', 'Sangiovese', 'Malbec', 'Rosé', 'White Blend', 'Temp'] \n",
        "clean_df = clean_df.loc[clean_df['variety'].isin(keep)].copy()\n",
        "\n",
        "clean_df.tail()\n"
      ],
      "execution_count": null,
      "outputs": [
        {
          "output_type": "execute_result",
          "data": {
            "text/plain": [
              "                                             description          variety\n",
              "97865  Outside of the vineyard, wines like this are w...           Merlot\n",
              "97866  Heavy and basic, with melon and pineapple arom...  Sauvignon Blanc\n",
              "97867  Smooth in the mouth, this Chard starts off wit...       Chardonnay\n",
              "97868  Seems mature and ready to drink now, with eart...       Chardonnay\n",
              "97869  While we'd suggest waiting for the 2007 to hit...       Pinot Noir"
            ],
            "text/html": [
              "\n",
              "  <div id=\"df-7380fef0-248b-471a-92e7-e20ce5e08476\">\n",
              "    <div class=\"colab-df-container\">\n",
              "      <div>\n",
              "<style scoped>\n",
              "    .dataframe tbody tr th:only-of-type {\n",
              "        vertical-align: middle;\n",
              "    }\n",
              "\n",
              "    .dataframe tbody tr th {\n",
              "        vertical-align: top;\n",
              "    }\n",
              "\n",
              "    .dataframe thead th {\n",
              "        text-align: right;\n",
              "    }\n",
              "</style>\n",
              "<table border=\"1\" class=\"dataframe\">\n",
              "  <thead>\n",
              "    <tr style=\"text-align: right;\">\n",
              "      <th></th>\n",
              "      <th>description</th>\n",
              "      <th>variety</th>\n",
              "    </tr>\n",
              "  </thead>\n",
              "  <tbody>\n",
              "    <tr>\n",
              "      <th>97865</th>\n",
              "      <td>Outside of the vineyard, wines like this are w...</td>\n",
              "      <td>Merlot</td>\n",
              "    </tr>\n",
              "    <tr>\n",
              "      <th>97866</th>\n",
              "      <td>Heavy and basic, with melon and pineapple arom...</td>\n",
              "      <td>Sauvignon Blanc</td>\n",
              "    </tr>\n",
              "    <tr>\n",
              "      <th>97867</th>\n",
              "      <td>Smooth in the mouth, this Chard starts off wit...</td>\n",
              "      <td>Chardonnay</td>\n",
              "    </tr>\n",
              "    <tr>\n",
              "      <th>97868</th>\n",
              "      <td>Seems mature and ready to drink now, with eart...</td>\n",
              "      <td>Chardonnay</td>\n",
              "    </tr>\n",
              "    <tr>\n",
              "      <th>97869</th>\n",
              "      <td>While we'd suggest waiting for the 2007 to hit...</td>\n",
              "      <td>Pinot Noir</td>\n",
              "    </tr>\n",
              "  </tbody>\n",
              "</table>\n",
              "</div>\n",
              "      <button class=\"colab-df-convert\" onclick=\"convertToInteractive('df-7380fef0-248b-471a-92e7-e20ce5e08476')\"\n",
              "              title=\"Convert this dataframe to an interactive table.\"\n",
              "              style=\"display:none;\">\n",
              "        \n",
              "  <svg xmlns=\"http://www.w3.org/2000/svg\" height=\"24px\"viewBox=\"0 0 24 24\"\n",
              "       width=\"24px\">\n",
              "    <path d=\"M0 0h24v24H0V0z\" fill=\"none\"/>\n",
              "    <path d=\"M18.56 5.44l.94 2.06.94-2.06 2.06-.94-2.06-.94-.94-2.06-.94 2.06-2.06.94zm-11 1L8.5 8.5l.94-2.06 2.06-.94-2.06-.94L8.5 2.5l-.94 2.06-2.06.94zm10 10l.94 2.06.94-2.06 2.06-.94-2.06-.94-.94-2.06-.94 2.06-2.06.94z\"/><path d=\"M17.41 7.96l-1.37-1.37c-.4-.4-.92-.59-1.43-.59-.52 0-1.04.2-1.43.59L10.3 9.45l-7.72 7.72c-.78.78-.78 2.05 0 2.83L4 21.41c.39.39.9.59 1.41.59.51 0 1.02-.2 1.41-.59l7.78-7.78 2.81-2.81c.8-.78.8-2.07 0-2.86zM5.41 20L4 18.59l7.72-7.72 1.47 1.35L5.41 20z\"/>\n",
              "  </svg>\n",
              "      </button>\n",
              "      \n",
              "  <style>\n",
              "    .colab-df-container {\n",
              "      display:flex;\n",
              "      flex-wrap:wrap;\n",
              "      gap: 12px;\n",
              "    }\n",
              "\n",
              "    .colab-df-convert {\n",
              "      background-color: #E8F0FE;\n",
              "      border: none;\n",
              "      border-radius: 50%;\n",
              "      cursor: pointer;\n",
              "      display: none;\n",
              "      fill: #1967D2;\n",
              "      height: 32px;\n",
              "      padding: 0 0 0 0;\n",
              "      width: 32px;\n",
              "    }\n",
              "\n",
              "    .colab-df-convert:hover {\n",
              "      background-color: #E2EBFA;\n",
              "      box-shadow: 0px 1px 2px rgba(60, 64, 67, 0.3), 0px 1px 3px 1px rgba(60, 64, 67, 0.15);\n",
              "      fill: #174EA6;\n",
              "    }\n",
              "\n",
              "    [theme=dark] .colab-df-convert {\n",
              "      background-color: #3B4455;\n",
              "      fill: #D2E3FC;\n",
              "    }\n",
              "\n",
              "    [theme=dark] .colab-df-convert:hover {\n",
              "      background-color: #434B5C;\n",
              "      box-shadow: 0px 1px 3px 1px rgba(0, 0, 0, 0.15);\n",
              "      filter: drop-shadow(0px 1px 2px rgba(0, 0, 0, 0.3));\n",
              "      fill: #FFFFFF;\n",
              "    }\n",
              "  </style>\n",
              "\n",
              "      <script>\n",
              "        const buttonEl =\n",
              "          document.querySelector('#df-7380fef0-248b-471a-92e7-e20ce5e08476 button.colab-df-convert');\n",
              "        buttonEl.style.display =\n",
              "          google.colab.kernel.accessAllowed ? 'block' : 'none';\n",
              "\n",
              "        async function convertToInteractive(key) {\n",
              "          const element = document.querySelector('#df-7380fef0-248b-471a-92e7-e20ce5e08476');\n",
              "          const dataTable =\n",
              "            await google.colab.kernel.invokeFunction('convertToInteractive',\n",
              "                                                     [key], {});\n",
              "          if (!dataTable) return;\n",
              "\n",
              "          const docLinkHtml = 'Like what you see? Visit the ' +\n",
              "            '<a target=\"_blank\" href=https://colab.research.google.com/notebooks/data_table.ipynb>data table notebook</a>'\n",
              "            + ' to learn more about interactive tables.';\n",
              "          element.innerHTML = '';\n",
              "          dataTable['output_type'] = 'display_data';\n",
              "          await google.colab.output.renderOutput(dataTable, element);\n",
              "          const docLink = document.createElement('div');\n",
              "          docLink.innerHTML = docLinkHtml;\n",
              "          element.appendChild(docLink);\n",
              "        }\n",
              "      </script>\n",
              "    </div>\n",
              "  </div>\n",
              "  "
            ]
          },
          "metadata": {},
          "execution_count": 122
        }
      ]
    },
    {
      "cell_type": "code",
      "metadata": {
        "id": "u8j9TjOUkSPS"
      },
      "source": [
        "# Put wine varieties into their own dataframe\n",
        "\n",
        "pinotNoir = clean_df.loc[(clean_df['variety'] == 'Pinot Noir')].copy().drop_duplicates().reset_index(drop=True)\n",
        "chardonnay = clean_df.loc[(clean_df['variety'] == 'Chardonnay')].copy().drop_duplicates().reset_index(drop=True)\n",
        "cabernetSauvignon = clean_df.loc[(clean_df['variety'] == 'Cabernet Sauvignon')].copy().drop_duplicates().reset_index(drop=True)\n",
        "redBlend = clean_df.loc[(clean_df['variety'] == 'Red Blend')].copy().drop_duplicates().reset_index(drop=True)\n",
        "bordeauxStyleRedBlend = clean_df.loc[(clean_df['variety'] == 'Bordeaux-style Red Blend')].copy().drop_duplicates().reset_index(drop=True)\n",
        "sauvignonBlanc= clean_df.loc[(clean_df['variety'] == 'Sauvignon Blanc')].copy().drop_duplicates().reset_index(drop=True)\n",
        "syrah= clean_df.loc[(clean_df['variety'] == 'Syrah')].copy().drop_duplicates().reset_index(drop=True)\n",
        "riesling= clean_df.loc[(clean_df['variety'] == 'Riesling')].copy().drop_duplicates().reset_index(drop=True)\n",
        "merlot= clean_df.loc[(clean_df['variety'] == 'Merlot')].copy().drop_duplicates().reset_index(drop=True)\n",
        "zinfandel= clean_df.loc[(clean_df['variety'] == 'Zinfandel')].copy().drop_duplicates().reset_index(drop=True)\n",
        "sangiovese = clean_df.loc[(clean_df['variety'] == \"Sangiovese\")].copy().drop_duplicates().reset_index(drop=True)\n",
        "malbec= clean_df.loc[(clean_df['variety'] == 'Malbec')].copy().drop_duplicates().reset_index(drop=True)\n",
        "rose = clean_df.loc[(clean_df['variety'] == 'Rosé')].copy().drop_duplicates().reset_index(drop=True)\n",
        "whiteBlend= clean_df.loc[(clean_df['variety'] == 'White Blend')].copy().drop_duplicates().reset_index(drop=True)\n",
        "tempranillo = clean_df.loc[(clean_df['variety'] == 'Tempranillo')].copy().drop_duplicates().reset_index(drop=True)\n",
        "\n",
        "myDfs = [pinotNoir,chardonnay,cabernetSauvignon,redBlend,bordeauxStyleRedBlend,sauvignonBlanc,syrah,riesling,merlot,zinfandel,sangiovese,malbec,rose,whiteBlend,tempranillo]\n",
        "\n",
        "myNames = [\"Pinot Noir\" , \"Chardonnay\",\"Cabernet Sauvignon\" , \"Red Blend\", \"Bordeaux-style Red Blend\", \"Sauvignon Blanc\" , \"Syrah\" ,\"Riesling\", \"Merlot\" , \"Zinfandel\" , \"Sangiovese\" ,\"Malbec\",\"Rosé\",\"White Blend\",\"Tempranillo\"]"
      ],
      "execution_count": 127,
      "outputs": []
    },
    {
      "cell_type": "code",
      "source": [
        "removedWords = [\"include\", \"remain\", \"remains\", \"scented\", \"scent\", \"depth\", \"powerful\", \"mix\", \"through\", \"fresh\", \"fully\", \"developing\", \"age\", \"nose\",\n",
        "                \"both\", \"finishes\", \"drink\", \"ready\", \"acidity\", \"glass\", \"style\", \"suggestion\", \"suggestions\", \"stays\", \"offer\", \"layered\", \"layer\",\n",
        "                \"together\", \"combination\", \"bite\", \"start\", \"give\", \"topped\", \"delivers\", \"brings\", \"structure\",\"100%\", \"new\", \"accented\", \"light\", \"offers\",\n",
        "                \"blend\", \"blended\", \"palate\", \"body\", \"paired\", \"carry\", \"carries\", \"taste\", \"tastes\", \"young\", \"old\", \"slightly\", \"good\", \"wines\",\n",
        "                \"along\", \"note\", \"notes\", \"develop\",\"wine\", \"hint\", \"flavors\", \"flavor\", \"accent\", \"accents\", \"but\", \"vineyard\", \"local\", \"texture\", \"textures\",\n",
        "                \"create\", \"a\", \"an\", \"the\", \"my\", \"your\", \"his\", \"her\", \"its\", \"our\", \"their\", \"whose\", \"that\", \"this\", \"these\", \"those\", \"one\", \"first\",\n",
        "                \"many\", \"few\", \"any\", \"is\", \"to\", \"by\", \"of\", \"on\", \"are\", \"in\",\"for\", \"and\", \"as\", \"be\",\"he\",\"she\",\"from\",\"him\",\"with\",\"after\",\"up\",\"over\",\n",
        "                \"now\",\"when\",\"at\",\"who\",\"if\",\"they\",\"them\",\"but\",\"yet\",\"so\",\"only\",\"out\", \"have\", \"it\", \"not\", \"theyre\", \"into\", \"which\", \"of\", \"will\",\"where\", \"best\", 'better', 'because', 'than', 'most']"
      ],
      "metadata": {
        "id": "ABHam3DpGG7l"
      },
      "execution_count": 151,
      "outputs": []
    },
    {
      "cell_type": "code",
      "source": [
        "myPunc = []\n",
        "for punc in string.punctuation:\n",
        "  myPunc.append(punc)"
      ],
      "metadata": {
        "id": "0Fxy8TsUKa9u"
      },
      "execution_count": 166,
      "outputs": []
    },
    {
      "cell_type": "code",
      "metadata": {
        "id": "AofDZxx_dZ-7"
      },
      "source": [
        "# Helper to Clean Description\n",
        "\n",
        "def cleanDesc(desc, removedWords, punc):\n",
        "    desc.replace(\"'\", \"\")\n",
        "    desc = desc.lower()\n",
        "    keepWords = []\n",
        "    token = word_tokenize(desc)\n",
        "    for t in token:\n",
        "      # remove ' and numvers\n",
        "        if (t not in removedWords) and (t not in myPunc):\n",
        "          keepWords.append(t)\n",
        "\n",
        "    return keepWords      "
      ],
      "execution_count": 175,
      "outputs": []
    },
    {
      "cell_type": "markdown",
      "metadata": {
        "id": "SsIzvmI8xjoZ"
      },
      "source": [
        "## Part 1: Item Baskets"
      ]
    },
    {
      "cell_type": "code",
      "metadata": {
        "id": "4CR1pZeiet-M"
      },
      "source": [
        "# Initialize Basket Dictionaries \n",
        "\n",
        "pinotNoirBasket = {}\n",
        "chardonnayBasket = {}\n",
        "cabernetSauvignonBasket = {}\n",
        "redBlendBasket = {}\n",
        "bordeauxStyleRedBlendBasket = {}\n",
        "sauvignonBlancBasket = {}\n",
        "syrahBasket = {}\n",
        "rieslingBasket = {}\n",
        "merlotBasket= {}\n",
        "zinfandelBasket = {}\n",
        "sangioveseBasket = {}\n",
        "malbecBasket = {}\n",
        "roseBasket = {}\n",
        "whiteBlendBasket= {}\n",
        "tempranilloBasket= {}\n",
        " \n",
        "myBaskets = [pinotNoirBasket,chardonnayBasket,cabernetSauvignonBasket,redBlendBasket,bordeauxStyleRedBlendBasket,sauvignonBlancBasket,syrahBasket,rieslingBasket,merlotBasket,zinfandelBasket,sangioveseBasket,malbecBasket,roseBasket,whiteBlendBasket,tempranilloBasket]\n"
      ],
      "execution_count": 176,
      "outputs": []
    },
    {
      "cell_type": "code",
      "metadata": {
        "id": "GjVvYmOeECx3"
      },
      "source": [
        "# Clean descriptions in the dataframe\n",
        "for df, basket in zip(myDfs,myBaskets):\n",
        "    for index,row in df.iterrows():\n",
        "        temp = cleanDesc(row['description'], removedWords, myPunc)\n",
        "        basket[row['variety']] = temp\n"
      ],
      "execution_count": 177,
      "outputs": []
    },
    {
      "cell_type": "code",
      "source": [
        "for i in myBaskets:\n",
        "  print(i)"
      ],
      "metadata": {
        "colab": {
          "base_uri": "https://localhost:8080/"
        },
        "id": "3cKgQcdKL4MM",
        "outputId": "28d76c74-c4ab-49ce-f9cc-1c4d7baef4ae"
      },
      "execution_count": 178,
      "outputs": [
        {
          "output_type": "stream",
          "name": "stdout",
          "text": [
            "{'Pinot Noir': ['while', 'we', \"'d\", 'suggest', 'waiting', '2007', 'hit', 'market', 'softer-styled', 'showing', 'mature', 'melon', 'tropical', 'fruit', 'bee', \"'s\", 'wax', 'aromas', 'front', 'mild', 'citrus', 'lemon', 'pineapple', 'has', 'medium-weight', 'almoance']}\n",
            "{'Chardonnay': ['seems', 'mature', 'earth', 'mushroom', 'black', 'cherries', 'finishing', 'touch', 'anise', 'easy-drinking', 'pinot', \"'s\", 'heavy', 'or', 'extracted', 'displays', 'complexity', 'balear', 'followed', 'creamy', 'peach', 'apricot', 'yellow', 'rose', 'tonic', 'density', 'long', 'persistency', 'close']}\n",
            "{'Cabernet Sauvignon': ['big', 'dark', 'smoked', 'meat', 'bacon', 'aromas', 'sitting', 'side', 'side', 'damp', 'soupy', 'has', 'strong', 'points', 'such', 'dark', 'plum', 'bacon', 'wideness', 'finish', 'strikes', 'against', 'extra', 'hard', 'tannins', 'result', 'scouring', 'lasting', 'feel', 'imported', 'ecosur', 'group', 'llc']}\n",
            "{'Red Blend': ['half', 'merlot', 'rest', 'cabernet', 'sauvignon', 'cabernet', 'franc', 'syrah', 'earthy', 'tobacco', 'mushroom', 'mixed', 'berry', 'zesty', 'lemon', 'red', 'fruit', 'touch', 'funk', 'while', 'earthy', 'plummy']}\n",
            "{'Bordeaux-style Red Blend': ['why', 'vintage', 'much', 'more', 'monotone', 'raisiny', 'lovely', \"'02\", 'anyone', \"'s\", 'guess', 'however', \"'s\", 'case', 'starts', 'game', 'bacon', 'shifts', 'raisin', 'prune', 'airing', 'meanwhile', 'also', 'lively', 'then', 'goes', 'raisiny', 'very', 'dark', 'settles', 'single', 'plane', 'then', 'there', 'tannic', 'well', 'imported', 'testa', 'world']}\n",
            "{'Sauvignon Blanc': ['heavy', 'basic', 'melon', 'pineapple', 'aromas', 'full-flavored', 'ton', 'apple', 'cinnamon', 'character', 'made', 'round', 'fruit-forward', 'complex', 'overly', 'serious', 'solid', 'quaffer']}\n",
            "{'Syrah': ['standard', 'aromas', 'berry', 'beet', 'range', 'what', 'you', 'get', 'hits', 'hard', 'fruit', 'seem', 'rugged', 'juicy', 'bit', 'tangy', 'settles', 'finish', 'offering', 'clarity', 'tight', 'modest', 'package', 'imported', 'biagio', 'cru', 'estate', 'llc']}\n",
            "{'Riesling': ['opens', 'spice', 'aromas', 'seem', 'bit', 'unusual', 'ranging', 'ginger', 'clove', 'anise', 'mouth', \"'s\", 'medium-bodied', 'stones', 'citrus', 'without', 'much', 'ripe', 'fruit', 'character']}\n",
            "{'Merlot': ['outside', 'like', 'what', 'built', 'company', \"'s\", 'production', 'reach', '12', 'million', 'cases', 'per', 'year', 'plump', 'low', 'acid', 'baked', 'black-cherry', 'earth', 'dried', 'herbs', 'just', 'may', 'merlot', 'poured', 'neighborhood', 'hangout']}\n",
            "{'Zinfandel': ['heady', 'briary', 'aromas', 'meld', 'easily', 'mixed', 'berries', 'while', 'herbal', 'add', 'interest', 'supple', 'tannins', 'finish', 'make']}\n",
            "{'Sangiovese': ['vino', 'nobile', 'grapes', 'do', \"n't\", 'make', 'cut', 'riserva', 'go', 'estate', 'does', \"n't\", 'produce', 'regular', 'vino', 'nobile', 'just', 'riserva', 'perennial', 'buy', 'combines', 'crunchy', 'cherry', 'fruit', 'hints', 'caramel', 'coffee', 'chocolate', \"'s\", 'cheerful', 'should', 'win', 'tuscany', 'plenty', 'fans', 'great', 'price']}\n",
            "{'Malbec': ['dark', 'dense', 'extracted', 'black', 'cherry', 'leather', 'earth', 'aromas', 'shows', 'ton', 'darkness', 'limited', 'chocolate', 'vanilla', 'appear', 'finish', 'there', \"'s\", 'also', 'blast', 'green', 'bring', 'down', 'imported', 'north', 'american', 'beverage', 'group']}\n",
            "{'Rosé': ['simple', 'elegance', 'defines', 'rosado', 'color', 'perfect', 'bright', 'fruit', 'forward…everything', 'place', 'isaac', 'muga', 'sons', 'know', 'how', 'make', 'rosé', 'emphasize', 'flashy', 'fruit', 'pure', 'finish', 'while', 'eschewing', 'oak', 'weight', 'every', 'restaurant', 'america', 'should', 'serve', 'beauty', 'every', 'drinker', 'should', 'try', 'least', 'once', 'impeccable', 'salads']}\n",
            "{'White Blend': ['there', 'plenty', 'sweet', 'fruit', 'honey', 'golden', 'raisin', 'spearmint', 'bubblegum', 'cheapens', 'trifle', 'keeps', 'feel', 'lively', 'while', 'whole', 'experience', 'positive', 'quite']}\n",
            "{'Tempranillo': ['mulchy', 'earthy', 'finish', 'distant', 'barely', 'register', 'overly', 'bad', 'true', 'cipher', 'imported', 'kensington', 'distributors', 'inc']}\n"
          ]
        }
      ]
    }
  ]
}